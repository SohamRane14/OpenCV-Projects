{
 "cells": [
  {
   "cell_type": "code",
   "execution_count": 1,
   "id": "724092f3-e781-42ee-b03a-4e3afcd23135",
   "metadata": {},
   "outputs": [
    {
     "name": "stdout",
     "output_type": "stream",
     "text": [
      "Faces blurred successfully and video saved to 'blurred_faces_video.mp4'.\n",
      "Face blurring completed. You can view the modified video using a video player.\n"
     ]
    }
   ],
   "source": [
    "import cv2\n",
    "import numpy as np\n",
    "def blur_faces_video(video_path, output_path, output_extension=\"mp4\"):\n",
    "    try:\n",
    "        # Load the deep learning-based face detection model\n",
    "        prototxt_path = \"deploy.prototxt\"\n",
    "        weights_path = \"res10_300x300_ssd_iter_140000.caffemodel\"\n",
    "        net = cv2.dnn.readNet(prototxt_path, weights_path)\n",
    "\n",
    "        # Open the video file\n",
    "        video_capture = cv2.VideoCapture(video_path)\n",
    "\n",
    "        if not video_capture.isOpened():\n",
    "            print(f\"Error: Could not open video file '{video_path}'.\")\n",
    "            return False\n",
    "\n",
    "        # Get the frames per second (fps) of the video\n",
    "        fps = video_capture.get(cv2.CAP_PROP_FPS)\n",
    "\n",
    "        # Get the width and height of the video frames\n",
    "        frame_width = int(video_capture.get(cv2.CAP_PROP_FRAME_WIDTH))\n",
    "        frame_height = int(video_capture.get(cv2.CAP_PROP_FRAME_HEIGHT))\n",
    "\n",
    "        # Define the codec and create VideoWriter object\n",
    "        fourcc = cv2.VideoWriter_fourcc(*'XVID')\n",
    "        out = cv2.VideoWriter(output_path, fourcc, fps, (frame_width, frame_height))\n",
    "\n",
    "        while True:\n",
    "            ret, frame = video_capture.read()\n",
    "\n",
    "            if not ret:\n",
    "                break\n",
    "\n",
    "            # Convert the frame to blob and pass through the network\n",
    "            blob = cv2.dnn.blobFromImage(frame, 1.0, (300, 300), (104.0, 177.0, 123.0))\n",
    "            net.setInput(blob)\n",
    "            detections = net.forward()\n",
    "\n",
    "            # Iterate through the detections\n",
    "            for i in range(detections.shape[2]):\n",
    "                confidence = detections[0, 0, i, 2]\n",
    "\n",
    "                if confidence > 0.5:  # Consider detections with confidence greater than 0.5\n",
    "                    box = detections[0, 0, i, 3:7] * np.array([frame_width, frame_height, frame_width, frame_height])\n",
    "                    (startX, startY, endX, endY) = box.astype(\"int\")\n",
    "\n",
    "                    # Extract the face ROI\n",
    "                    face = frame[startY:endY, startX:endX]\n",
    "\n",
    "                    # Apply Gaussian blur to the face\n",
    "                    blurred_face = cv2.GaussianBlur(face, (99, 99), 0)\n",
    "\n",
    "                    # Replace the face region with the blurred face\n",
    "                    frame[startY:endY, startX:endX] = blurred_face\n",
    "\n",
    "            # Write the modified frame to the output video\n",
    "            out.write(frame)\n",
    "\n",
    "        # Release video capture and writer objects\n",
    "        video_capture.release()\n",
    "        out.release()\n",
    "\n",
    "        print(f\"Faces blurred successfully and video saved to '{output_path}'.\")\n",
    "        return True\n",
    "\n",
    "    except Exception as e:\n",
    "        print(f\"An unexpected error occurred: {e}\")\n",
    "        return False\n",
    "\n",
    "# Example usage\n",
    "video_path = \"people_video_1.mp4\"  # Replace with your video file path\n",
    "output_path = \"blurred_faces_video.mp4\"  # You can change the extension here if needed\n",
    "\n",
    "if blur_faces_video(video_path, output_path):\n",
    "    print(\"Face blurring completed. You can view the modified video using a video player.\")\n"
   ]
  },
  {
   "cell_type": "code",
   "execution_count": null,
   "id": "4d9808d2-aa99-4c80-af97-87684fb14340",
   "metadata": {},
   "outputs": [],
   "source": []
  }
 ],
 "metadata": {
  "kernelspec": {
   "display_name": "Python 3 (ipykernel)",
   "language": "python",
   "name": "python3"
  },
  "language_info": {
   "codemirror_mode": {
    "name": "ipython",
    "version": 3
   },
   "file_extension": ".py",
   "mimetype": "text/x-python",
   "name": "python",
   "nbconvert_exporter": "python",
   "pygments_lexer": "ipython3",
   "version": "3.10.7"
  }
 },
 "nbformat": 4,
 "nbformat_minor": 5
}
