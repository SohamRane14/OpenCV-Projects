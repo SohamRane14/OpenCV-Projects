{
 "cells": [
  {
   "cell_type": "code",
   "execution_count": 3,
   "id": "2096239a-8ec1-4937-aaef-7bd354188ad4",
   "metadata": {},
   "outputs": [
    {
     "name": "stdout",
     "output_type": "stream",
     "text": [
      "Faces blurred successfully and image saved to 'blurred_faces.jpg'.\n",
      "Face blurring completed. You can view the modified image using an image viewer.\n"
     ]
    }
   ],
   "source": [
    "import cv2\n",
    "\n",
    "def blur_faces(image_path, output_path):\n",
    "    try:\n",
    "        # Load the pre-trained face detection model\n",
    "        face_cascade = cv2.CascadeClassifier(cv2.data.haarcascades + 'haarcascade_frontalface_default.xml')\n",
    "\n",
    "        # Read the image\n",
    "        img = cv2.imread(image_path)\n",
    "\n",
    "        if img is None:\n",
    "            print(f\"Error: Could not read image from '{image_path}'.\")\n",
    "            return False\n",
    "\n",
    "        # Convert the image to grayscale for face detection\n",
    "        gray = cv2.cvtColor(img, cv2.COLOR_BGR2GRAY)\n",
    "\n",
    "        # Detect faces in the image\n",
    "        faces = face_cascade.detectMultiScale(gray, scaleFactor=1.1, minNeighbors=5, minSize=(30, 30))\n",
    "\n",
    "        # Apply Gaussian blur to each detected face\n",
    "        for (x, y, w, h) in faces:\n",
    "            face = img[y:y+h, x:x+w]\n",
    "            blurred_face = cv2.GaussianBlur(face, (99, 99), 0)\n",
    "            img[y:y+h, x:x+w] = blurred_face\n",
    "\n",
    "        # Save the modified image\n",
    "        cv2.imwrite(output_path, img)\n",
    "\n",
    "        print(f\"Faces blurred successfully and image saved to '{output_path}'.\")\n",
    "        return True\n",
    "\n",
    "    except Exception as e:\n",
    "        print(f\"An unexpected error occurred: {e}\")\n",
    "        return False\n",
    "\n",
    "# Example usage\n",
    "image_path = \"images.jpg\"  # Replace with your image path\n",
    "output_path = \"blurred_faces.jpg\"\n",
    "\n",
    "if blur_faces(image_path, output_path):\n",
    "    print(\"Face blurring completed. You can view the modified image using an image viewer.\")\n"
   ]
  },
  {
   "cell_type": "code",
   "execution_count": null,
   "id": "5d9fc4ca-510a-41e9-81d8-4700295af1e0",
   "metadata": {},
   "outputs": [],
   "source": []
  }
 ],
 "metadata": {
  "kernelspec": {
   "display_name": "Python 3 (ipykernel)",
   "language": "python",
   "name": "python3"
  },
  "language_info": {
   "codemirror_mode": {
    "name": "ipython",
    "version": 3
   },
   "file_extension": ".py",
   "mimetype": "text/x-python",
   "name": "python",
   "nbconvert_exporter": "python",
   "pygments_lexer": "ipython3",
   "version": "3.10.7"
  }
 },
 "nbformat": 4,
 "nbformat_minor": 5
}
